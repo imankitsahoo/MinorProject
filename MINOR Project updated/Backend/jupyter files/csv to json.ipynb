{
 "cells": [
  {
   "cell_type": "code",
   "execution_count": 118,
   "id": "2de06a6b",
   "metadata": {},
   "outputs": [],
   "source": [
    "import pandas as pd\n",
    "import re\n",
    "import csv\n",
    "import json\n",
    "from sklearn.feature_extraction.text import TfidfVectorizer\n",
    "import numpy as np"
   ]
  },
  {
   "cell_type": "code",
   "execution_count": 121,
   "id": "58a4a823",
   "metadata": {},
   "outputs": [],
   "source": [
    "def extract_video_id(link):\n",
    "    pattern = r\"(?<=v=)[a-zA-Z0-9_-]+(?=&|\\?|$)\"\n",
    "    match = re.search(pattern, link)\n",
    "    if match:\n",
    "        return match.group(0)\n",
    "    else:\n",
    "        return None\n",
    "\n",
    "def generate_video_ids(csv_file):\n",
    "    file = csv_file + \".csv\"\n",
    "    try:\n",
    "        #df = pd.read_csv(csv_file)\n",
    "        df = pd.read_csv(file, encoding='latin-1')\n",
    "        df['video_id'] = df['link'].apply(extract_video_id)\n",
    "        df.dropna(subset=['video_id'], inplace=True)\n",
    "        df.to_csv(file, index=False)\n",
    "        print(\"Video IDs generated successfully and saved to\", file)\n",
    "    except Exception as e:\n",
    "        print(f\"An error occurred: {str(e)}\")\n",
    "        \n",
    "def csv_json(file):\n",
    "    #data = pd.read_csv(filename)\n",
    "    filename = file + \".csv\"\n",
    "    print(filename)\n",
    "    data = pd.read_csv(filename, encoding='latin-1')\n",
    "    #data[\"title\"] = data[\"title\"].str.lower()  # Lowercase titles directly within DataFrame\n",
    "    json_filename = file + \".json\"\n",
    "    json_dict=[]\n",
    "    for row in data:\n",
    "        json_dict.append({\n",
    "                    \"link\": data[\"link\"],\n",
    "                    \"title\": data[\"title\"],\n",
    "                    \"author\": data[\"author\"],\n",
    "                    \"video_id\": data[\"video_id\"],\n",
    "                    })\n",
    "        json_dict = data.to_dict(orient='records')  # Convert DataFrame to list of dictionaries\n",
    "        with open(json_filename, \"w\") as jsonfile:\n",
    "            json.dump(json_dict, jsonfile, indent=4)\n",
    "\n",
    "    print(f\"CSV data converted to JSON and saved to {json_filename}\")"
   ]
  },
  {
   "cell_type": "code",
   "execution_count": 130,
   "id": "1b83e14a",
   "metadata": {},
   "outputs": [
    {
     "name": "stdout",
     "output_type": "stream",
     "text": [
      "Video IDs generated successfully and saved to angry.csv\n",
      "angry.csv\n",
      "CSV data converted to JSON and saved to angry.json\n",
      "Video IDs generated successfully and saved to disgust.csv\n",
      "disgust.csv\n",
      "CSV data converted to JSON and saved to disgust.json\n",
      "Video IDs generated successfully and saved to fear.csv\n",
      "fear.csv\n",
      "CSV data converted to JSON and saved to fear.json\n",
      "Video IDs generated successfully and saved to happy.csv\n",
      "happy.csv\n",
      "CSV data converted to JSON and saved to happy.json\n",
      "Video IDs generated successfully and saved to neutral.csv\n",
      "neutral.csv\n",
      "CSV data converted to JSON and saved to neutral.json\n",
      "Video IDs generated successfully and saved to sad.csv\n",
      "sad.csv\n",
      "CSV data converted to JSON and saved to sad.json\n",
      "Video IDs generated successfully and saved to surprise.csv\n",
      "surprise.csv\n",
      "CSV data converted to JSON and saved to surprise.json\n"
     ]
    }
   ],
   "source": [
    "emotions = ['angry','disgust','fear','happy','neutral', 'sad', 'surprise']\n",
    "for emotion in emotions:\n",
    "    #data_file = emotion + \".csv\"\n",
    "    \n",
    "    generate_video_ids(emotion)\n",
    "    csv_json(emotion)\n"
   ]
  },
  {
   "cell_type": "code",
   "execution_count": null,
   "id": "4cff04e4",
   "metadata": {},
   "outputs": [],
   "source": []
  },
  {
   "cell_type": "code",
   "execution_count": null,
   "id": "1d0058ec",
   "metadata": {},
   "outputs": [],
   "source": []
  },
  {
   "cell_type": "code",
   "execution_count": null,
   "id": "8deca915",
   "metadata": {},
   "outputs": [],
   "source": []
  }
 ],
 "metadata": {
  "kernelspec": {
   "display_name": "Python 3 (ipykernel)",
   "language": "python",
   "name": "python3"
  },
  "language_info": {
   "codemirror_mode": {
    "name": "ipython",
    "version": 3
   },
   "file_extension": ".py",
   "mimetype": "text/x-python",
   "name": "python",
   "nbconvert_exporter": "python",
   "pygments_lexer": "ipython3",
   "version": "3.9.7"
  }
 },
 "nbformat": 4,
 "nbformat_minor": 5
}
